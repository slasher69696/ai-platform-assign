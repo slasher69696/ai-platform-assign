{
  "cells": [
    {
      "cell_type": "code",
      "execution_count": 1,
      "metadata": {
        "id": "_LI4INchRTZe"
      },
      "outputs": [],
      "source": [
        "import torch\n",
        "import torch.nn as nn\n",
        "import torch.nn.functional as F\n",
        "from torch.optim import SGD\n",
        "\n",
        "import matplotlib.pyplot as plt\n",
        "import seaborn as sns"
      ]
    },
    {
      "cell_type": "code",
      "execution_count": 2,
      "metadata": {
        "id": "gP50fwaBY5Tp"
      },
      "outputs": [],
      "source": [
        "class SimpleNN(nn.Module):\n",
        "    def __init__(self):\n",
        "        super().__init__()\n",
        "        # Initialize weights and biases with random values between -1 and 2\n",
        "        self.w00 = nn.Parameter(torch.rand(1) * 3 - 1, requires_grad=False)  # Random between -1 and 2\n",
        "        self.b00 = nn.Parameter(torch.rand(1) * 3 - 1, requires_grad=False)\n",
        "\n",
        "        self.w01 = nn.Parameter(torch.rand(1) * 3 - 1, requires_grad=False)\n",
        "        self.b01 = nn.Parameter(torch.rand(1) * 3 - 1, requires_grad=False)\n",
        "\n",
        "        self.w02 = nn.Parameter(torch.rand(1) * 3 - 1, requires_grad=False)\n",
        "        self.b02 = nn.Parameter(torch.rand(1) * 3 - 1, requires_grad=False)\n",
        "\n",
        "        self.w11 = nn.Parameter(torch.rand(1) * 3 - 1, requires_grad=False)\n",
        "        self.w12 = nn.Parameter(torch.rand(1) * 3 - 1, requires_grad=False)\n",
        "        self.w13 = nn.Parameter(torch.rand(1) * 3 - 1, requires_grad=False)\n",
        "\n",
        "        self.w20 = nn.Parameter(torch.rand(1) * 3 - 1, requires_grad=False)  # Random between -1 and 2\n",
        "\n",
        "    def forward(self, input):\n",
        "        input_to_layer_01 = input * self.w00 + self.b00\n",
        "        layer_01_output = torch.sigmoid(input_to_layer_01)  # Using sigmoid activation\n",
        "        layer_01_output = layer_01_output * self.w11\n",
        "\n",
        "        input_to_layer_02 = input * self.w01 + self.b01\n",
        "        layer_02_output = torch.sigmoid(input_to_layer_02)  # Using sigmoid activation\n",
        "        layer_02_output = layer_02_output * self.w12\n",
        "\n",
        "        input_to_layer_03 = input * self.w02 + self.b02\n",
        "        layer_03_output = torch.sigmoid(input_to_layer_03)  # Using sigmoid activation\n",
        "        layer_03_output = layer_03_output * self.w13\n",
        "\n",
        "        output = layer_01_output + layer_02_output + layer_03_output\n",
        "\n",
        "        output = torch.tanh(output)  # Applying tanh on the final output\n",
        "        output = output * self.w20\n",
        "        return output\n"
      ]
    },
    {
      "cell_type": "code",
      "execution_count": 3,
      "metadata": {
        "id": "k6sIZtmKeoT_"
      },
      "outputs": [],
      "source": [
        "my_model = SimpleNN()"
      ]
    },
    {
      "cell_type": "code",
      "execution_count": 4,
      "metadata": {
        "colab": {
          "base_uri": "https://localhost:8080/"
        },
        "id": "9z4_z5mYewtw",
        "outputId": "18162bf4-7b6d-46b5-e069-d7196af33ab1"
      },
      "outputs": [
        {
          "output_type": "execute_result",
          "data": {
            "text/plain": [
              "tensor([1.0000, 1.0385, 1.0769, 1.1154, 1.1538, 1.1923, 1.2308, 1.2692, 1.3077,\n",
              "        1.3462, 1.3846, 1.4231, 1.4615, 1.5000, 1.5385, 1.5769, 1.6154, 1.6538,\n",
              "        1.6923, 1.7308, 1.7692, 1.8077, 1.8462, 1.8846, 1.9231, 1.9615, 2.0000,\n",
              "        2.0385, 2.0769, 2.1154, 2.1538, 2.1923, 2.2308, 2.2692, 2.3077, 2.3462,\n",
              "        2.3846, 2.4231, 2.4615, 2.5000])"
            ]
          },
          "metadata": {},
          "execution_count": 4
        }
      ],
      "source": [
        "X = torch.linspace(start=1, end=2.5, steps=40)\n",
        "X"
      ]
    },
    {
      "cell_type": "code",
      "execution_count": 5,
      "metadata": {
        "colab": {
          "base_uri": "https://localhost:8080/"
        },
        "id": "8AQNdDNdfIrY",
        "outputId": "4e134439-1864-45ff-9985-029da2b71b9f"
      },
      "outputs": [
        {
          "output_type": "execute_result",
          "data": {
            "text/plain": [
              "tensor([-0.5939, -0.5952, -0.5965, -0.5977, -0.5988, -0.5999, -0.6010, -0.6020,\n",
              "        -0.6030, -0.6039, -0.6047, -0.6056, -0.6064, -0.6071, -0.6078, -0.6085,\n",
              "        -0.6092, -0.6098, -0.6104, -0.6109, -0.6115, -0.6120, -0.6125, -0.6130,\n",
              "        -0.6134, -0.6138, -0.6143, -0.6147, -0.6150, -0.6154, -0.6158, -0.6161,\n",
              "        -0.6164, -0.6167, -0.6170, -0.6173, -0.6176, -0.6179, -0.6181, -0.6184])"
            ]
          },
          "metadata": {},
          "execution_count": 5
        }
      ],
      "source": [
        "Y = my_model(X)\n",
        "Y"
      ]
    },
    {
      "cell_type": "code",
      "execution_count": 6,
      "metadata": {
        "colab": {
          "base_uri": "https://localhost:8080/",
          "height": 476
        },
        "id": "2p3agH02fS8y",
        "outputId": "8c6ec042-c010-483e-aab1-9818d634b1c9"
      },
      "outputs": [
        {
          "output_type": "execute_result",
          "data": {
            "text/plain": [
              "Text(0, 0.5, 'Y')"
            ]
          },
          "metadata": {},
          "execution_count": 6
        },
        {
          "output_type": "display_data",
          "data": {
            "text/plain": [
              "<Figure size 640x480 with 1 Axes>"
            ],
            "image/png": "[encoded data removed]"
          },
          "metadata": {}
        }
      ],
      "source": [
        "sns.set(style=\"whitegrid\")\n",
        "\n",
        "sns.lineplot(\n",
        "    x=X,\n",
        "    y=Y,\n",
        "    color='green',\n",
        "    linewidth=3\n",
        ")\n",
        "\n",
        "\n",
        "plt.xlabel('X')\n",
        "plt.ylabel('Y')"
      ]
    },
    {
      "cell_type": "code",
      "execution_count": 7,
      "metadata": {
        "id": "KqYZFWFCgAgb"
      },
      "outputs": [],
      "source": [
        "class Simple2NN(nn.Module):\n",
        "    def __init__(self):\n",
        "        super().__init__()\n",
        "        # Initialize weights and biases with random values between -1 and 2\n",
        "        self.w00 = nn.Parameter(torch.rand(1) * 3 - 1, requires_grad=True)  # Random between -1 and 2\n",
        "        self.b00 = nn.Parameter(torch.rand(1) * 3 - 1, requires_grad=True)\n",
        "\n",
        "        self.w01 = nn.Parameter(torch.rand(1) * 3 - 1, requires_grad=True)\n",
        "        self.b01 = nn.Parameter(torch.rand(1) * 3 - 1, requires_grad=True)\n",
        "\n",
        "        self.w02 = nn.Parameter(torch.rand(1) * 3 - 1, requires_grad=True)  # Random between -1 and 2\n",
        "        self.b02 = nn.Parameter(torch.rand(1) * 3 - 1, requires_grad=True)\n",
        "\n",
        "        self.w11 = nn.Parameter(torch.rand(1) * 3 - 1, requires_grad=True)\n",
        "        self.w12 = nn.Parameter(torch.rand(1) * 3 - 1, requires_grad=True)\n",
        "        self.w13 = nn.Parameter(torch.rand(1) * 3 - 1, requires_grad=True)\n",
        "\n",
        "        self.w20 = nn.Parameter(torch.rand(1) * 3 - 1, requires_grad=True)  # Random between -1 and 2\n",
        "\n",
        "    def forward(self, input):\n",
        "        input_to_layer_01 = input * self.w00 + self.b00\n",
        "        layer_01_output = torch.sigmoid(input_to_layer_01)  # Using sigmoid activation\n",
        "        layer_01_output = layer_01_output * self.w11\n",
        "\n",
        "        input_to_layer_02 = input * self.w01 + self.b01\n",
        "        layer_02_output = torch.sigmoid(input_to_layer_02)  # Using sigmoid activation\n",
        "        layer_02_output = layer_02_output * self.w12\n",
        "\n",
        "        input_to_layer_03 = input * self.w02 + self.b02\n",
        "        layer_03_output = torch.sigmoid(input_to_layer_03)  # Using sigmoid activation\n",
        "        layer_03_output = layer_03_output * self.w13\n",
        "\n",
        "        output = layer_01_output + layer_02_output + layer_03_output\n",
        "\n",
        "        output = torch.tanh(output)  # Applying tanh on the final output\n",
        "        output = output * self.w20\n",
        "        return output"
      ]
    },
    {
      "cell_type": "code",
      "execution_count": 8,
      "metadata": {
        "id": "xh8wwTPPg5b8"
      },
      "outputs": [],
      "source": [
        "simple2NN = Simple2NN()"
      ]
    },
    {
      "cell_type": "code",
      "execution_count": 9,
      "metadata": {
        "id": "EKBe4kYmhP7y"
      },
      "outputs": [],
      "source": [
        "newY=simple2NN(X)"
      ]
    },
    {
      "cell_type": "code",
      "execution_count": 10,
      "metadata": {
        "colab": {
          "base_uri": "https://localhost:8080/"
        },
        "id": "-AjvN_aKhXoV",
        "outputId": "567202e4-99ea-4780-ea4d-a938ca3869c5"
      },
      "outputs": [
        {
          "output_type": "execute_result",
          "data": {
            "text/plain": [
              "tensor([1.2839, 1.2851, 1.2863, 1.2874, 1.2884, 1.2893, 1.2902, 1.2910, 1.2918,\n",
              "        1.2924, 1.2931, 1.2937, 1.2942, 1.2947, 1.2952, 1.2956, 1.2959, 1.2963,\n",
              "        1.2966, 1.2969, 1.2971, 1.2974, 1.2976, 1.2978, 1.2979, 1.2981, 1.2982,\n",
              "        1.2983, 1.2984, 1.2984, 1.2985, 1.2986, 1.2986, 1.2986, 1.2986, 1.2986,\n",
              "        1.2986, 1.2986, 1.2986, 1.2986], grad_fn=<MulBackward0>)"
            ]
          },
          "metadata": {},
          "execution_count": 10
        }
      ],
      "source": [
        "newY"
      ]
    },
    {
      "cell_type": "code",
      "execution_count": 11,
      "metadata": {
        "colab": {
          "base_uri": "https://localhost:8080/",
          "height": 476
        },
        "id": "5e1jhV8zhZgn",
        "outputId": "be299c30-1224-40af-8850-b44c82e05411"
      },
      "outputs": [
        {
          "output_type": "execute_result",
          "data": {
            "text/plain": [
              "Text(0, 0.5, 'Y')"
            ]
          },
          "metadata": {},
          "execution_count": 11
        },
        {
          "output_type": "display_data",
          "data": {
            "text/plain": [
              "<Figure size 640x480 with 1 Axes>"
            ],
            "image/png": "[encoded data removed]"
          },
          "metadata": {}
        }
      ],
      "source": [
        "sns.set(style=\"whitegrid\")\n",
        "\n",
        "sns.lineplot(\n",
        "    x=X,\n",
        "    y=newY.detach(),\n",
        "    color='green',\n",
        "    linewidth=3\n",
        ")\n",
        "\n",
        "\n",
        "plt.xlabel('X')\n",
        "plt.ylabel('Y')"
      ]
    },
    {
      "cell_type": "code",
      "execution_count": 12,
      "metadata": {
        "id": "r6FK_K2Ehzi4"
      },
      "outputs": [],
      "source": [
        "optimizer = SGD(simple2NN.parameters(), lr=0.01)\n",
        "loss = nn.MSELoss()"
      ]
    },
    {
      "cell_type": "code",
      "execution_count": 13,
      "metadata": {
        "colab": {
          "base_uri": "https://localhost:8080/"
        },
        "id": "esJ2KVMtie8G",
        "outputId": "067b9038-a2be-47f6-cb5d-e7fb84c9e608"
      },
      "outputs": [
        {
          "output_type": "stream",
          "name": "stderr",
          "text": [
            "/usr/local/lib/python3.10/dist-packages/torch/nn/modules/loss.py:608: UserWarning: Using a target size (torch.Size([])) that is different to the input size (torch.Size([1])). This will likely lead to incorrect results due to broadcasting. Please ensure they have the same size.\n",
            "  return F.mse_loss(input, target, reduction=self.reduction)\n"
          ]
        },
        {
          "output_type": "stream",
          "name": "stdout",
          "text": [
            "Epoch:  0  | Total Loss:  tensor(145.0985, grad_fn=<AddBackward0>)\n",
            "Epoch:  1  | Total Loss:  tensor(12.0563, grad_fn=<AddBackward0>)\n",
            "Epoch:  2  | Total Loss:  tensor(1.7875, grad_fn=<AddBackward0>)\n",
            "Epoch:  3  | Total Loss:  tensor(0.2348, grad_fn=<AddBackward0>)\n",
            "Epoch:  4  | Total Loss:  tensor(0.0285, grad_fn=<AddBackward0>)\n",
            "Epoch:  5  | Total Loss:  tensor(0.0038, grad_fn=<AddBackward0>)\n",
            "Epoch:  6  | Total Loss:  tensor(0.0010, grad_fn=<AddBackward0>)\n",
            "Epoch:  7  | Total Loss:  tensor(0.0006, grad_fn=<AddBackward0>)\n",
            "Epoch:  8  | Total Loss:  tensor(0.0006, grad_fn=<AddBackward0>)\n",
            "Epoch:  9  | Total Loss:  tensor(0.0006, grad_fn=<AddBackward0>)\n",
            "Epoch:  10  | Total Loss:  tensor(0.0006, grad_fn=<AddBackward0>)\n",
            "Epoch:  11  | Total Loss:  tensor(0.0006, grad_fn=<AddBackward0>)\n",
            "Epoch:  12  | Total Loss:  tensor(0.0006, grad_fn=<AddBackward0>)\n",
            "Epoch:  13  | Total Loss:  tensor(0.0006, grad_fn=<AddBackward0>)\n",
            "Epoch:  14  | Total Loss:  tensor(0.0006, grad_fn=<AddBackward0>)\n",
            "Epoch:  15  | Total Loss:  tensor(0.0006, grad_fn=<AddBackward0>)\n",
            "Epoch:  16  | Total Loss:  tensor(0.0006, grad_fn=<AddBackward0>)\n",
            "Epoch:  17  | Total Loss:  tensor(0.0006, grad_fn=<AddBackward0>)\n",
            "Epoch:  18  | Total Loss:  tensor(0.0006, grad_fn=<AddBackward0>)\n",
            "Epoch:  19  | Total Loss:  tensor(0.0006, grad_fn=<AddBackward0>)\n",
            "Epoch:  20  | Total Loss:  tensor(0.0006, grad_fn=<AddBackward0>)\n",
            "Epoch:  21  | Total Loss:  tensor(0.0006, grad_fn=<AddBackward0>)\n",
            "Epoch:  22  | Total Loss:  tensor(0.0006, grad_fn=<AddBackward0>)\n",
            "Epoch:  23  | Total Loss:  tensor(0.0006, grad_fn=<AddBackward0>)\n",
            "Epoch:  24  | Total Loss:  tensor(0.0006, grad_fn=<AddBackward0>)\n",
            "Epoch:  25  | Total Loss:  tensor(0.0006, grad_fn=<AddBackward0>)\n",
            "Epoch:  26  | Total Loss:  tensor(0.0006, grad_fn=<AddBackward0>)\n",
            "Epoch:  27  | Total Loss:  tensor(0.0006, grad_fn=<AddBackward0>)\n",
            "Epoch:  28  | Total Loss:  tensor(0.0006, grad_fn=<AddBackward0>)\n",
            "Epoch:  29  | Total Loss:  tensor(0.0006, grad_fn=<AddBackward0>)\n",
            "Epoch:  30  | Total Loss:  tensor(0.0006, grad_fn=<AddBackward0>)\n",
            "Epoch:  31  | Total Loss:  tensor(0.0006, grad_fn=<AddBackward0>)\n",
            "Epoch:  32  | Total Loss:  tensor(0.0006, grad_fn=<AddBackward0>)\n",
            "Epoch:  33  | Total Loss:  tensor(0.0006, grad_fn=<AddBackward0>)\n",
            "Epoch:  34  | Total Loss:  tensor(0.0006, grad_fn=<AddBackward0>)\n",
            "Epoch:  35  | Total Loss:  tensor(0.0006, grad_fn=<AddBackward0>)\n",
            "Epoch:  36  | Total Loss:  tensor(0.0006, grad_fn=<AddBackward0>)\n",
            "Epoch:  37  | Total Loss:  tensor(0.0006, grad_fn=<AddBackward0>)\n",
            "Epoch:  38  | Total Loss:  tensor(0.0006, grad_fn=<AddBackward0>)\n",
            "Epoch:  39  | Total Loss:  tensor(0.0006, grad_fn=<AddBackward0>)\n",
            "Epoch:  40  | Total Loss:  tensor(0.0006, grad_fn=<AddBackward0>)\n",
            "Epoch:  41  | Total Loss:  tensor(0.0006, grad_fn=<AddBackward0>)\n",
            "Epoch:  42  | Total Loss:  tensor(0.0006, grad_fn=<AddBackward0>)\n",
            "Epoch:  43  | Total Loss:  tensor(0.0006, grad_fn=<AddBackward0>)\n",
            "Epoch:  44  | Total Loss:  tensor(0.0006, grad_fn=<AddBackward0>)\n",
            "Epoch:  45  | Total Loss:  tensor(0.0006, grad_fn=<AddBackward0>)\n",
            "Epoch:  46  | Total Loss:  tensor(0.0006, grad_fn=<AddBackward0>)\n",
            "Epoch:  47  | Total Loss:  tensor(0.0006, grad_fn=<AddBackward0>)\n",
            "Epoch:  48  | Total Loss:  tensor(0.0006, grad_fn=<AddBackward0>)\n",
            "Epoch:  49  | Total Loss:  tensor(0.0006, grad_fn=<AddBackward0>)\n",
            "Epoch:  50  | Total Loss:  tensor(0.0006, grad_fn=<AddBackward0>)\n",
            "Epoch:  51  | Total Loss:  tensor(0.0006, grad_fn=<AddBackward0>)\n",
            "Epoch:  52  | Total Loss:  tensor(0.0006, grad_fn=<AddBackward0>)\n",
            "Epoch:  53  | Total Loss:  tensor(0.0006, grad_fn=<AddBackward0>)\n",
            "Epoch:  54  | Total Loss:  tensor(0.0006, grad_fn=<AddBackward0>)\n",
            "Epoch:  55  | Total Loss:  tensor(0.0006, grad_fn=<AddBackward0>)\n",
            "Epoch:  56  | Total Loss:  tensor(0.0006, grad_fn=<AddBackward0>)\n",
            "Epoch:  57  | Total Loss:  tensor(0.0006, grad_fn=<AddBackward0>)\n",
            "Epoch:  58  | Total Loss:  tensor(0.0006, grad_fn=<AddBackward0>)\n",
            "Epoch:  59  | Total Loss:  tensor(0.0006, grad_fn=<AddBackward0>)\n",
            "Epoch:  60  | Total Loss:  tensor(0.0006, grad_fn=<AddBackward0>)\n",
            "Epoch:  61  | Total Loss:  tensor(0.0006, grad_fn=<AddBackward0>)\n",
            "Epoch:  62  | Total Loss:  tensor(0.0006, grad_fn=<AddBackward0>)\n",
            "Epoch:  63  | Total Loss:  tensor(0.0006, grad_fn=<AddBackward0>)\n",
            "Epoch:  64  | Total Loss:  tensor(0.0006, grad_fn=<AddBackward0>)\n",
            "Epoch:  65  | Total Loss:  tensor(0.0006, grad_fn=<AddBackward0>)\n",
            "Epoch:  66  | Total Loss:  tensor(0.0006, grad_fn=<AddBackward0>)\n",
            "Epoch:  67  | Total Loss:  tensor(0.0006, grad_fn=<AddBackward0>)\n",
            "Epoch:  68  | Total Loss:  tensor(0.0006, grad_fn=<AddBackward0>)\n",
            "Epoch:  69  | Total Loss:  tensor(0.0006, grad_fn=<AddBackward0>)\n",
            "Epoch:  70  | Total Loss:  tensor(0.0006, grad_fn=<AddBackward0>)\n",
            "Epoch:  71  | Total Loss:  tensor(0.0006, grad_fn=<AddBackward0>)\n",
            "Epoch:  72  | Total Loss:  tensor(0.0006, grad_fn=<AddBackward0>)\n",
            "Epoch:  73  | Total Loss:  tensor(0.0006, grad_fn=<AddBackward0>)\n",
            "Epoch:  74  | Total Loss:  tensor(0.0006, grad_fn=<AddBackward0>)\n",
            "Epoch:  75  | Total Loss:  tensor(0.0006, grad_fn=<AddBackward0>)\n",
            "Epoch:  76  | Total Loss:  tensor(0.0006, grad_fn=<AddBackward0>)\n",
            "Epoch:  77  | Total Loss:  tensor(0.0006, grad_fn=<AddBackward0>)\n",
            "Epoch:  78  | Total Loss:  tensor(0.0006, grad_fn=<AddBackward0>)\n",
            "Epoch:  79  | Total Loss:  tensor(0.0006, grad_fn=<AddBackward0>)\n",
            "Epoch:  80  | Total Loss:  tensor(0.0006, grad_fn=<AddBackward0>)\n",
            "Epoch:  81  | Total Loss:  tensor(0.0006, grad_fn=<AddBackward0>)\n",
            "Epoch:  82  | Total Loss:  tensor(0.0006, grad_fn=<AddBackward0>)\n",
            "Epoch:  83  | Total Loss:  tensor(0.0006, grad_fn=<AddBackward0>)\n",
            "Epoch:  84  | Total Loss:  tensor(0.0006, grad_fn=<AddBackward0>)\n",
            "Epoch:  85  | Total Loss:  tensor(0.0006, grad_fn=<AddBackward0>)\n",
            "Epoch:  86  | Total Loss:  tensor(0.0006, grad_fn=<AddBackward0>)\n",
            "Epoch:  87  | Total Loss:  tensor(0.0006, grad_fn=<AddBackward0>)\n",
            "Epoch:  88  | Total Loss:  tensor(0.0006, grad_fn=<AddBackward0>)\n",
            "Epoch:  89  | Total Loss:  tensor(0.0006, grad_fn=<AddBackward0>)\n",
            "Epoch:  90  | Total Loss:  tensor(0.0006, grad_fn=<AddBackward0>)\n",
            "Epoch:  91  | Total Loss:  tensor(0.0006, grad_fn=<AddBackward0>)\n",
            "Epoch:  92  | Total Loss:  tensor(0.0006, grad_fn=<AddBackward0>)\n",
            "Epoch:  93  | Total Loss:  tensor(0.0006, grad_fn=<AddBackward0>)\n",
            "Epoch:  94  | Total Loss:  tensor(0.0006, grad_fn=<AddBackward0>)\n",
            "Epoch:  95  | Total Loss:  tensor(0.0006, grad_fn=<AddBackward0>)\n",
            "Epoch:  96  | Total Loss:  tensor(0.0006, grad_fn=<AddBackward0>)\n",
            "Epoch:  97  | Total Loss:  tensor(0.0006, grad_fn=<AddBackward0>)\n",
            "Epoch:  98  | Total Loss:  tensor(0.0006, grad_fn=<AddBackward0>)\n",
            "Epoch:  99  | Total Loss:  tensor(0.0006, grad_fn=<AddBackward0>)\n"
          ]
        }
      ],
      "source": [
        "for epoch in range(100):\n",
        "    total_loss = 0\n",
        "\n",
        "    for i in range(len(X)):\n",
        "        input_i = X[i]\n",
        "        actual_output_i = Y[i]\n",
        "\n",
        "        pred_output_i = simple2NN(input_i)\n",
        "\n",
        "        loss_value = loss(pred_output_i, actual_output_i)\n",
        "\n",
        "        loss_value.backward()\n",
        "\n",
        "        total_loss += loss_value\n",
        "\n",
        "    print('Epoch: ', epoch, ' | Total Loss: ', total_loss)\n",
        "    optimizer.step()\n",
        "    optimizer.zero_grad()\n",
        "\n"
      ]
    },
    {
      "cell_type": "code",
      "execution_count": 14,
      "metadata": {
        "colab": {
          "base_uri": "https://localhost:8080/"
        },
        "id": "DKTxJyOMkF-r",
        "outputId": "1785ba05-8755-4faa-cae8-858e4b80af75"
      },
      "outputs": [
        {
          "output_type": "execute_result",
          "data": {
            "text/plain": [
              "tensor([-0.6006, -0.6016, -0.6025, -0.6034, -0.6042, -0.6049, -0.6056, -0.6062,\n",
              "        -0.6068, -0.6074, -0.6079, -0.6084, -0.6088, -0.6092, -0.6096, -0.6099,\n",
              "        -0.6102, -0.6105, -0.6107, -0.6109, -0.6112, -0.6113, -0.6115, -0.6116,\n",
              "        -0.6118, -0.6119, -0.6120, -0.6121, -0.6121, -0.6122, -0.6122, -0.6123,\n",
              "        -0.6123, -0.6123, -0.6123, -0.6123, -0.6123, -0.6123, -0.6123, -0.6123],\n",
              "       grad_fn=<MulBackward0>)"
            ]
          },
          "metadata": {},
          "execution_count": 14
        }
      ],
      "source": [
        "pred_y = simple2NN(X)\n",
        "pred_y"
      ]
    },
    {
      "cell_type": "code",
      "execution_count": 15,
      "metadata": {
        "colab": {
          "base_uri": "https://localhost:8080/",
          "height": 476
        },
        "id": "eCqnctFAlKj-",
        "outputId": "a46c904e-664d-450d-a1c3-fa2401b58100"
      },
      "outputs": [
        {
          "output_type": "execute_result",
          "data": {
            "text/plain": [
              "Text(0, 0.5, 'Y')"
            ]
          },
          "metadata": {},
          "execution_count": 15
        },
        {
          "output_type": "display_data",
          "data": {
            "text/plain": [
              "<Figure size 640x480 with 1 Axes>"
            ],
            "image/png": "[encoded data removed]"
          },
          "metadata": {}
        }
      ],
      "source": [
        "sns.set(style=\"whitegrid\")\n",
        "\n",
        "sns.lineplot(\n",
        "    x=X,\n",
        "    y=pred_y.detach(),\n",
        "    color='green',\n",
        "    linewidth=3\n",
        ")\n",
        "\n",
        "\n",
        "plt.xlabel('X')\n",
        "plt.ylabel('Y')"
      ]
    }
  ],
  "metadata": {
    "colab": {
      "provenance": []
    },
    "kernelspec": {
      "display_name": "base",
      "language": "python",
      "name": "python3"
    },
    "language_info": {
      "codemirror_mode": {
        "name": "ipython",
        "version": 3
      },
      "file_extension": ".py",
      "mimetype": "text/x-python",
      "name": "python",
      "nbconvert_exporter": "python",
      "pygments_lexer": "ipython3",
      "version": "3.11.5"
    }
  },
  "nbformat": 4,
  "nbformat_minor": 0
}