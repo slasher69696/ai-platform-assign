{
  "cells": [
    {
      "cell_type": "code",
      "execution_count": 121,
      "metadata": {
        "id": "_LI4INchRTZe"
      },
      "outputs": [],
      "source": [
        "import torch\n",
        "import torch.nn as nn\n",
        "import torch.nn.functional as F\n",
        "from torch.optim import SGD\n",
        "\n",
        "import matplotlib.pyplot as plt\n",
        "import seaborn as sns"
      ]
    },
    {
      "cell_type": "code",
      "execution_count": 122,
      "metadata": {
        "id": "gP50fwaBY5Tp"
      },
      "outputs": [],
      "source": [
        "class SimpleNN(nn.Module):\n",
        "    def __init__(self):\n",
        "        super().__init__()\n",
        "        # Initialize weights and biases with random values between -1 and 2\n",
        "        self.w00 = nn.Parameter(torch.rand(1) * 3 - 1, requires_grad=False)  # Random between -1 and 2\n",
        "        self.b00 = nn.Parameter(torch.rand(1) * 3 - 1, requires_grad=False)\n",
        "\n",
        "        self.w01 = nn.Parameter(torch.rand(1) * 3 - 1, requires_grad=False)\n",
        "        self.b01 = nn.Parameter(torch.rand(1) * 3 - 1, requires_grad=False)\n",
        "\n",
        "        self.w02 = nn.Parameter(torch.rand(1) * 3 - 1, requires_grad=False)\n",
        "        self.b02 = nn.Parameter(torch.rand(1) * 3 - 1, requires_grad=False)\n",
        "\n",
        "        self.w11 = nn.Parameter(torch.rand(1) * 3 - 1, requires_grad=False)\n",
        "        self.w12 = nn.Parameter(torch.rand(1) * 3 - 1, requires_grad=False)\n",
        "        self.w13 = nn.Parameter(torch.rand(1) * 3 - 1, requires_grad=False)\n",
        "\n",
        "        self.w20 = nn.Parameter(torch.rand(1) * 3 - 1, requires_grad=False)  # Random between -1 and 2\n",
        "\n",
        "    def forward(self, input):\n",
        "        input_to_layer_01 = input * self.w00 + self.b00\n",
        "        layer_01_output = torch.sigmoid(input_to_layer_01)  # Using sigmoid activation\n",
        "        layer_01_output = layer_01_output * self.w11\n",
        "\n",
        "        input_to_layer_02 = input * self.w01 + self.b01\n",
        "        layer_02_output = torch.sigmoid(input_to_layer_02)  # Using sigmoid activation\n",
        "        layer_02_output = layer_02_output * self.w12\n",
        "\n",
        "        input_to_layer_03 = input * self.w02 + self.b02\n",
        "        layer_03_output = torch.sigmoid(input_to_layer_03)  # Using sigmoid activation\n",
        "        layer_03_output = layer_03_output * self.w13\n",
        "\n",
        "        output = layer_01_output + layer_02_output + layer_03_output\n",
        "\n",
        "        output = torch.sigmoid(output)  # Applying sigmoid on the final output\n",
        "        output = output * self.w20\n",
        "        return output\n"
      ]
    },
    {
      "cell_type": "code",
      "execution_count": 123,
      "metadata": {
        "id": "k6sIZtmKeoT_"
      },
      "outputs": [],
      "source": [
        "my_model = SimpleNN()"
      ]
    },
    {
      "cell_type": "code",
      "execution_count": 124,
      "metadata": {
        "colab": {
          "base_uri": "https://localhost:8080/"
        },
        "id": "9z4_z5mYewtw",
        "outputId": "335578a3-fae9-4268-8123-fa8cf1d7aaf4"
      },
      "outputs": [
        {
          "output_type": "execute_result",
          "data": {
            "text/plain": [
              "tensor([1.0000, 1.0385, 1.0769, 1.1154, 1.1538, 1.1923, 1.2308, 1.2692, 1.3077,\n",
              "        1.3462, 1.3846, 1.4231, 1.4615, 1.5000, 1.5385, 1.5769, 1.6154, 1.6538,\n",
              "        1.6923, 1.7308, 1.7692, 1.8077, 1.8462, 1.8846, 1.9231, 1.9615, 2.0000,\n",
              "        2.0385, 2.0769, 2.1154, 2.1538, 2.1923, 2.2308, 2.2692, 2.3077, 2.3462,\n",
              "        2.3846, 2.4231, 2.4615, 2.5000])"
            ]
          },
          "metadata": {},
          "execution_count": 124
        }
      ],
      "source": [
        "X = torch.linspace(start=1, end=2.5, steps=40)\n",
        "X"
      ]
    },
    {
      "cell_type": "code",
      "execution_count": 125,
      "metadata": {
        "colab": {
          "base_uri": "https://localhost:8080/"
        },
        "id": "8AQNdDNdfIrY",
        "outputId": "251d2b54-dad3-4287-af66-d70119cc6398"
      },
      "outputs": [
        {
          "output_type": "execute_result",
          "data": {
            "text/plain": [
              "tensor([-0.3884, -0.3885, -0.3886, -0.3887, -0.3888, -0.3889, -0.3890, -0.3891,\n",
              "        -0.3891, -0.3892, -0.3893, -0.3894, -0.3894, -0.3895, -0.3896, -0.3896,\n",
              "        -0.3897, -0.3898, -0.3898, -0.3899, -0.3900, -0.3900, -0.3901, -0.3901,\n",
              "        -0.3902, -0.3902, -0.3903, -0.3903, -0.3904, -0.3904, -0.3905, -0.3905,\n",
              "        -0.3905, -0.3906, -0.3906, -0.3907, -0.3907, -0.3908, -0.3908, -0.3908])"
            ]
          },
          "metadata": {},
          "execution_count": 125
        }
      ],
      "source": [
        "Y = my_model(X)\n",
        "Y"
      ]
    },
    {
      "cell_type": "code",
      "execution_count": 126,
      "metadata": {
        "colab": {
          "base_uri": "https://localhost:8080/",
          "height": 476
        },
        "id": "2p3agH02fS8y",
        "outputId": "7cf014ef-7131-4ad8-81c1-b7a7953a0ca4"
      },
      "outputs": [
        {
          "output_type": "execute_result",
          "data": {
            "text/plain": [
              "Text(0, 0.5, 'Y')"
            ]
          },
          "metadata": {},
          "execution_count": 126
        },
        {
          "output_type": "display_data",
          "data": {
            "text/plain": [
              "<Figure size 640x480 with 1 Axes>"
            ],
            "image/png": "[encoded data removed]"
          },
          "metadata": {}
        }
      ],
      "source": [
        "sns.set(style=\"whitegrid\")\n",
        "\n",
        "sns.lineplot(\n",
        "    x=X,\n",
        "    y=Y,\n",
        "    color='green',\n",
        "    linewidth=3\n",
        ")\n",
        "\n",
        "\n",
        "plt.xlabel('X')\n",
        "plt.ylabel('Y')"
      ]
    },
    {
      "cell_type": "code",
      "execution_count": 127,
      "metadata": {
        "id": "KqYZFWFCgAgb"
      },
      "outputs": [],
      "source": [
        "class Simple2NN(nn.Module):\n",
        "    def __init__(self):\n",
        "        super().__init__()\n",
        "        # Initialize weights and biases with random values between -1 and 2\n",
        "        self.w00 = nn.Parameter(torch.rand(1) * 3 - 1, requires_grad=True)  # Random between -1 and 2\n",
        "        self.b00 = nn.Parameter(torch.rand(1) * 3 - 1, requires_grad=False)\n",
        "\n",
        "        self.w01 = nn.Parameter(torch.rand(1) * 3 - 1, requires_grad=False)\n",
        "        self.b01 = nn.Parameter(torch.rand(1) * 3 - 1, requires_grad=False)\n",
        "\n",
        "        self.w02 = nn.Parameter(torch.rand(1) * 3 - 1, requires_grad=True)  # Random between -1 and 2\n",
        "        self.b02 = nn.Parameter(torch.rand(1) * 3 - 1, requires_grad=False)\n",
        "\n",
        "        self.w11 = nn.Parameter(torch.rand(1) * 3 - 1, requires_grad=False)\n",
        "        self.w12 = nn.Parameter(torch.rand(1) * 3 - 1, requires_grad=False)\n",
        "        self.w13 = nn.Parameter(torch.rand(1) * 3 - 1, requires_grad=False)\n",
        "\n",
        "        self.w20 = nn.Parameter(torch.rand(1) * 3 - 1, requires_grad=True)  # Random between -1 and 2\n",
        "\n",
        "    def forward(self, input):\n",
        "        input_to_layer_01 = input * self.w00 + self.b00\n",
        "        layer_01_output = torch.sigmoid(input_to_layer_01)  # Using sigmoid activation\n",
        "        layer_01_output = layer_01_output * self.w11\n",
        "\n",
        "        input_to_layer_02 = input * self.w01 + self.b01\n",
        "        layer_02_output = torch.sigmoid(input_to_layer_02)  # Using sigmoid activation\n",
        "        layer_02_output = layer_02_output * self.w12\n",
        "\n",
        "        input_to_layer_03 = input * self.w02 + self.b02\n",
        "        layer_03_output = torch.sigmoid(input_to_layer_03)  # Using sigmoid activation\n",
        "        layer_03_output = layer_03_output * self.w13\n",
        "\n",
        "        output = layer_01_output + layer_02_output + layer_03_output\n",
        "\n",
        "        output = torch.sigmoid(output)  # Applying sigmoid on the final output\n",
        "        output = output * self.w20\n",
        "        return output"
      ]
    },
    {
      "cell_type": "code",
      "execution_count": 128,
      "metadata": {
        "id": "xh8wwTPPg5b8"
      },
      "outputs": [],
      "source": [
        "simple2NN = Simple2NN()"
      ]
    },
    {
      "cell_type": "code",
      "execution_count": 129,
      "metadata": {
        "id": "EKBe4kYmhP7y"
      },
      "outputs": [],
      "source": [
        "newY=simple2NN(X)"
      ]
    },
    {
      "cell_type": "code",
      "execution_count": 130,
      "metadata": {
        "colab": {
          "base_uri": "https://localhost:8080/"
        },
        "id": "-AjvN_aKhXoV",
        "outputId": "f8310291-9bc6-4e85-eda9-735da2f60120"
      },
      "outputs": [
        {
          "output_type": "execute_result",
          "data": {
            "text/plain": [
              "tensor([1.3829, 1.3846, 1.3863, 1.3879, 1.3895, 1.3909, 1.3924, 1.3937, 1.3950,\n",
              "        1.3963, 1.3975, 1.3987, 1.3998, 1.4009, 1.4019, 1.4029, 1.4038, 1.4047,\n",
              "        1.4056, 1.4064, 1.4072, 1.4080, 1.4088, 1.4095, 1.4101, 1.4108, 1.4114,\n",
              "        1.4120, 1.4126, 1.4131, 1.4137, 1.4142, 1.4146, 1.4151, 1.4156, 1.4160,\n",
              "        1.4164, 1.4168, 1.4171, 1.4175], grad_fn=<MulBackward0>)"
            ]
          },
          "metadata": {},
          "execution_count": 130
        }
      ],
      "source": [
        "newY"
      ]
    },
    {
      "cell_type": "code",
      "execution_count": 131,
      "metadata": {
        "colab": {
          "base_uri": "https://localhost:8080/",
          "height": 476
        },
        "id": "5e1jhV8zhZgn",
        "outputId": "4764bd1a-285b-4f0a-9cc5-e06a9c99bf0e"
      },
      "outputs": [
        {
          "output_type": "execute_result",
          "data": {
            "text/plain": [
              "Text(0, 0.5, 'Y')"
            ]
          },
          "metadata": {},
          "execution_count": 131
        },
        {
          "output_type": "display_data",
          "data": {
            "text/plain": [
              "<Figure size 640x480 with 1 Axes>"
            ],
            "image/png": "[encoded data removed]"
          },
          "metadata": {}
        }
      ],
      "source": [
        "sns.set(style=\"whitegrid\")\n",
        "\n",
        "sns.lineplot(\n",
        "    x=X,\n",
        "    y=newY.detach(),\n",
        "    color='green',\n",
        "    linewidth=3\n",
        ")\n",
        "\n",
        "\n",
        "plt.xlabel('X')\n",
        "plt.ylabel('Y')"
      ]
    },
    {
      "cell_type": "code",
      "execution_count": 132,
      "metadata": {
        "id": "r6FK_K2Ehzi4"
      },
      "outputs": [],
      "source": [
        "optimizer = SGD(simple2NN.parameters(), lr=0.01)\n",
        "loss = nn.MSELoss()"
      ]
    },
    {
      "cell_type": "code",
      "execution_count": 133,
      "metadata": {
        "colab": {
          "base_uri": "https://localhost:8080/"
        },
        "id": "esJ2KVMtie8G",
        "outputId": "9de29300-8054-4c36-c91e-183c15a60d8b"
      },
      "outputs": [
        {
          "output_type": "stream",
          "name": "stderr",
          "text": [
            "/usr/local/lib/python3.10/dist-packages/torch/nn/modules/loss.py:608: UserWarning: Using a target size (torch.Size([])) that is different to the input size (torch.Size([1])). This will likely lead to incorrect results due to broadcasting. Please ensure they have the same size.\n",
            "  return F.mse_loss(input, target, reduction=self.reduction)\n"
          ]
        },
        {
          "output_type": "stream",
          "name": "stdout",
          "text": [
            "Epoch:  0  | Total Loss:  tensor(128.7962, grad_fn=<AddBackward0>)\n",
            "Epoch:  1  | Total Loss:  tensor(11.6981, grad_fn=<AddBackward0>)\n",
            "Epoch:  2  | Total Loss:  tensor(1.0628, grad_fn=<AddBackward0>)\n",
            "Epoch:  3  | Total Loss:  tensor(0.0967, grad_fn=<AddBackward0>)\n",
            "Epoch:  4  | Total Loss:  tensor(0.0089, grad_fn=<AddBackward0>)\n",
            "Epoch:  5  | Total Loss:  tensor(0.0010, grad_fn=<AddBackward0>)\n",
            "Epoch:  6  | Total Loss:  tensor(0.0002, grad_fn=<AddBackward0>)\n",
            "Epoch:  7  | Total Loss:  tensor(0.0002, grad_fn=<AddBackward0>)\n",
            "Epoch:  8  | Total Loss:  tensor(0.0002, grad_fn=<AddBackward0>)\n",
            "Epoch:  9  | Total Loss:  tensor(0.0002, grad_fn=<AddBackward0>)\n",
            "Epoch:  10  | Total Loss:  tensor(0.0002, grad_fn=<AddBackward0>)\n",
            "Epoch:  11  | Total Loss:  tensor(0.0002, grad_fn=<AddBackward0>)\n",
            "Epoch:  12  | Total Loss:  tensor(0.0002, grad_fn=<AddBackward0>)\n",
            "Epoch:  13  | Total Loss:  tensor(0.0002, grad_fn=<AddBackward0>)\n",
            "Epoch:  14  | Total Loss:  tensor(0.0002, grad_fn=<AddBackward0>)\n",
            "Epoch:  15  | Total Loss:  tensor(0.0002, grad_fn=<AddBackward0>)\n",
            "Epoch:  16  | Total Loss:  tensor(0.0002, grad_fn=<AddBackward0>)\n",
            "Epoch:  17  | Total Loss:  tensor(0.0002, grad_fn=<AddBackward0>)\n",
            "Epoch:  18  | Total Loss:  tensor(0.0002, grad_fn=<AddBackward0>)\n",
            "Epoch:  19  | Total Loss:  tensor(0.0002, grad_fn=<AddBackward0>)\n",
            "Epoch:  20  | Total Loss:  tensor(0.0002, grad_fn=<AddBackward0>)\n",
            "Epoch:  21  | Total Loss:  tensor(0.0002, grad_fn=<AddBackward0>)\n",
            "Epoch:  22  | Total Loss:  tensor(0.0002, grad_fn=<AddBackward0>)\n",
            "Epoch:  23  | Total Loss:  tensor(0.0002, grad_fn=<AddBackward0>)\n",
            "Epoch:  24  | Total Loss:  tensor(0.0002, grad_fn=<AddBackward0>)\n",
            "Epoch:  25  | Total Loss:  tensor(0.0002, grad_fn=<AddBackward0>)\n",
            "Epoch:  26  | Total Loss:  tensor(0.0002, grad_fn=<AddBackward0>)\n",
            "Epoch:  27  | Total Loss:  tensor(0.0002, grad_fn=<AddBackward0>)\n",
            "Epoch:  28  | Total Loss:  tensor(0.0002, grad_fn=<AddBackward0>)\n",
            "Epoch:  29  | Total Loss:  tensor(0.0002, grad_fn=<AddBackward0>)\n",
            "Epoch:  30  | Total Loss:  tensor(0.0002, grad_fn=<AddBackward0>)\n",
            "Epoch:  31  | Total Loss:  tensor(0.0002, grad_fn=<AddBackward0>)\n",
            "Epoch:  32  | Total Loss:  tensor(0.0002, grad_fn=<AddBackward0>)\n",
            "Epoch:  33  | Total Loss:  tensor(0.0002, grad_fn=<AddBackward0>)\n",
            "Epoch:  34  | Total Loss:  tensor(0.0002, grad_fn=<AddBackward0>)\n",
            "Epoch:  35  | Total Loss:  tensor(0.0002, grad_fn=<AddBackward0>)\n",
            "Epoch:  36  | Total Loss:  tensor(0.0002, grad_fn=<AddBackward0>)\n",
            "Epoch:  37  | Total Loss:  tensor(0.0002, grad_fn=<AddBackward0>)\n",
            "Epoch:  38  | Total Loss:  tensor(0.0002, grad_fn=<AddBackward0>)\n",
            "Epoch:  39  | Total Loss:  tensor(0.0002, grad_fn=<AddBackward0>)\n",
            "Epoch:  40  | Total Loss:  tensor(0.0002, grad_fn=<AddBackward0>)\n",
            "Epoch:  41  | Total Loss:  tensor(0.0002, grad_fn=<AddBackward0>)\n",
            "Epoch:  42  | Total Loss:  tensor(0.0002, grad_fn=<AddBackward0>)\n",
            "Epoch:  43  | Total Loss:  tensor(0.0002, grad_fn=<AddBackward0>)\n",
            "Epoch:  44  | Total Loss:  tensor(0.0002, grad_fn=<AddBackward0>)\n",
            "Epoch:  45  | Total Loss:  tensor(0.0002, grad_fn=<AddBackward0>)\n",
            "Epoch:  46  | Total Loss:  tensor(0.0002, grad_fn=<AddBackward0>)\n",
            "Epoch:  47  | Total Loss:  tensor(0.0002, grad_fn=<AddBackward0>)\n",
            "Epoch:  48  | Total Loss:  tensor(0.0002, grad_fn=<AddBackward0>)\n",
            "Epoch:  49  | Total Loss:  tensor(0.0002, grad_fn=<AddBackward0>)\n",
            "Epoch:  50  | Total Loss:  tensor(0.0002, grad_fn=<AddBackward0>)\n",
            "Epoch:  51  | Total Loss:  tensor(0.0002, grad_fn=<AddBackward0>)\n",
            "Epoch:  52  | Total Loss:  tensor(0.0002, grad_fn=<AddBackward0>)\n",
            "Epoch:  53  | Total Loss:  tensor(0.0002, grad_fn=<AddBackward0>)\n",
            "Epoch:  54  | Total Loss:  tensor(0.0002, grad_fn=<AddBackward0>)\n",
            "Epoch:  55  | Total Loss:  tensor(0.0002, grad_fn=<AddBackward0>)\n",
            "Epoch:  56  | Total Loss:  tensor(0.0002, grad_fn=<AddBackward0>)\n",
            "Epoch:  57  | Total Loss:  tensor(0.0002, grad_fn=<AddBackward0>)\n",
            "Epoch:  58  | Total Loss:  tensor(0.0002, grad_fn=<AddBackward0>)\n",
            "Epoch:  59  | Total Loss:  tensor(0.0002, grad_fn=<AddBackward0>)\n",
            "Epoch:  60  | Total Loss:  tensor(0.0002, grad_fn=<AddBackward0>)\n",
            "Epoch:  61  | Total Loss:  tensor(0.0002, grad_fn=<AddBackward0>)\n",
            "Epoch:  62  | Total Loss:  tensor(0.0002, grad_fn=<AddBackward0>)\n",
            "Epoch:  63  | Total Loss:  tensor(0.0002, grad_fn=<AddBackward0>)\n",
            "Epoch:  64  | Total Loss:  tensor(0.0002, grad_fn=<AddBackward0>)\n",
            "Epoch:  65  | Total Loss:  tensor(0.0002, grad_fn=<AddBackward0>)\n",
            "Epoch:  66  | Total Loss:  tensor(0.0002, grad_fn=<AddBackward0>)\n",
            "Epoch:  67  | Total Loss:  tensor(0.0002, grad_fn=<AddBackward0>)\n",
            "Epoch:  68  | Total Loss:  tensor(0.0002, grad_fn=<AddBackward0>)\n",
            "Epoch:  69  | Total Loss:  tensor(0.0002, grad_fn=<AddBackward0>)\n",
            "Epoch:  70  | Total Loss:  tensor(0.0002, grad_fn=<AddBackward0>)\n",
            "Epoch:  71  | Total Loss:  tensor(0.0002, grad_fn=<AddBackward0>)\n",
            "Epoch:  72  | Total Loss:  tensor(0.0002, grad_fn=<AddBackward0>)\n",
            "Epoch:  73  | Total Loss:  tensor(0.0002, grad_fn=<AddBackward0>)\n",
            "Epoch:  74  | Total Loss:  tensor(0.0002, grad_fn=<AddBackward0>)\n",
            "Epoch:  75  | Total Loss:  tensor(0.0002, grad_fn=<AddBackward0>)\n",
            "Epoch:  76  | Total Loss:  tensor(0.0002, grad_fn=<AddBackward0>)\n",
            "Epoch:  77  | Total Loss:  tensor(0.0002, grad_fn=<AddBackward0>)\n",
            "Epoch:  78  | Total Loss:  tensor(0.0002, grad_fn=<AddBackward0>)\n",
            "Epoch:  79  | Total Loss:  tensor(0.0002, grad_fn=<AddBackward0>)\n",
            "Epoch:  80  | Total Loss:  tensor(0.0002, grad_fn=<AddBackward0>)\n",
            "Epoch:  81  | Total Loss:  tensor(0.0002, grad_fn=<AddBackward0>)\n",
            "Epoch:  82  | Total Loss:  tensor(0.0002, grad_fn=<AddBackward0>)\n",
            "Epoch:  83  | Total Loss:  tensor(0.0002, grad_fn=<AddBackward0>)\n",
            "Epoch:  84  | Total Loss:  tensor(0.0002, grad_fn=<AddBackward0>)\n",
            "Epoch:  85  | Total Loss:  tensor(0.0002, grad_fn=<AddBackward0>)\n",
            "Epoch:  86  | Total Loss:  tensor(0.0002, grad_fn=<AddBackward0>)\n",
            "Epoch:  87  | Total Loss:  tensor(0.0002, grad_fn=<AddBackward0>)\n",
            "Epoch:  88  | Total Loss:  tensor(0.0002, grad_fn=<AddBackward0>)\n",
            "Epoch:  89  | Total Loss:  tensor(0.0002, grad_fn=<AddBackward0>)\n",
            "Epoch:  90  | Total Loss:  tensor(0.0002, grad_fn=<AddBackward0>)\n",
            "Epoch:  91  | Total Loss:  tensor(0.0002, grad_fn=<AddBackward0>)\n",
            "Epoch:  92  | Total Loss:  tensor(0.0002, grad_fn=<AddBackward0>)\n",
            "Epoch:  93  | Total Loss:  tensor(0.0002, grad_fn=<AddBackward0>)\n",
            "Epoch:  94  | Total Loss:  tensor(0.0002, grad_fn=<AddBackward0>)\n",
            "Epoch:  95  | Total Loss:  tensor(0.0002, grad_fn=<AddBackward0>)\n",
            "Epoch:  96  | Total Loss:  tensor(0.0002, grad_fn=<AddBackward0>)\n",
            "Epoch:  97  | Total Loss:  tensor(0.0002, grad_fn=<AddBackward0>)\n",
            "Epoch:  98  | Total Loss:  tensor(0.0002, grad_fn=<AddBackward0>)\n",
            "Epoch:  99  | Total Loss:  tensor(0.0002, grad_fn=<AddBackward0>)\n"
          ]
        }
      ],
      "source": [
        "for epoch in range(100):\n",
        "    total_loss = 0\n",
        "\n",
        "    for i in range(len(X)):\n",
        "        input_i = X[i]\n",
        "        actual_output_i = Y[i]\n",
        "\n",
        "        pred_output_i = simple2NN(input_i)\n",
        "\n",
        "        loss_value = loss(pred_output_i, actual_output_i)\n",
        "\n",
        "        loss_value.backward()\n",
        "\n",
        "        total_loss += loss_value\n",
        "\n",
        "    print('Epoch: ', epoch, ' | Total Loss: ', total_loss)\n",
        "    optimizer.step()\n",
        "    optimizer.zero_grad()\n",
        "\n"
      ]
    },
    {
      "cell_type": "code",
      "execution_count": 134,
      "metadata": {
        "colab": {
          "base_uri": "https://localhost:8080/"
        },
        "id": "DKTxJyOMkF-r",
        "outputId": "433e328a-412b-4c3f-91fd-72caaa0b49d2"
      },
      "outputs": [
        {
          "output_type": "execute_result",
          "data": {
            "text/plain": [
              "tensor([-0.3838, -0.3843, -0.3847, -0.3852, -0.3856, -0.3860, -0.3864, -0.3868,\n",
              "        -0.3872, -0.3875, -0.3878, -0.3882, -0.3885, -0.3888, -0.3891, -0.3893,\n",
              "        -0.3896, -0.3899, -0.3901, -0.3903, -0.3905, -0.3908, -0.3910, -0.3912,\n",
              "        -0.3914, -0.3915, -0.3917, -0.3919, -0.3920, -0.3922, -0.3923, -0.3925,\n",
              "        -0.3926, -0.3927, -0.3929, -0.3930, -0.3931, -0.3932, -0.3933, -0.3934],\n",
              "       grad_fn=<MulBackward0>)"
            ]
          },
          "metadata": {},
          "execution_count": 134
        }
      ],
      "source": [
        "pred_y = simple2NN(X)\n",
        "pred_y"
      ]
    },
    {
      "cell_type": "code",
      "execution_count": 135,
      "metadata": {
        "colab": {
          "base_uri": "https://localhost:8080/",
          "height": 476
        },
        "id": "eCqnctFAlKj-",
        "outputId": "a36de3f8-08ce-4638-ef66-87e837cc2e83"
      },
      "outputs": [
        {
          "output_type": "execute_result",
          "data": {
            "text/plain": [
              "Text(0, 0.5, 'Y')"
            ]
          },
          "metadata": {},
          "execution_count": 135
        },
        {
          "output_type": "display_data",
          "data": {
            "text/plain": [
              "<Figure size 640x480 with 1 Axes>"
            ],
            "image/png": "[encoded data removed]"
          },
          "metadata": {}
        }
      ],
      "source": [
        "sns.set(style=\"whitegrid\")\n",
        "\n",
        "sns.lineplot(\n",
        "    x=X,\n",
        "    y=pred_y.detach(),\n",
        "    color='green',\n",
        "    linewidth=3\n",
        ")\n",
        "\n",
        "\n",
        "plt.xlabel('X')\n",
        "plt.ylabel('Y')"
      ]
    }
  ],
  "metadata": {
    "colab": {
      "provenance": []
    },
    "kernelspec": {
      "display_name": "base",
      "language": "python",
      "name": "python3"
    },
    "language_info": {
      "codemirror_mode": {
        "name": "ipython",
        "version": 3
      },
      "file_extension": ".py",
      "mimetype": "text/x-python",
      "name": "python",
      "nbconvert_exporter": "python",
      "pygments_lexer": "ipython3",
      "version": "3.11.5"
    }
  },
  "nbformat": 4,
  "nbformat_minor": 0
}