{
  "cells": [
    {
      "cell_type": "code",
      "execution_count": 2,
      "metadata": {
        "id": "_LI4INchRTZe"
      },
      "outputs": [],
      "source": [
        "import torch\n",
        "import torch.nn as nn\n",
        "import torch.nn.functional as F\n",
        "from torch.optim import SGD\n",
        "\n",
        "import matplotlib.pyplot as plt\n",
        "import seaborn as sns"
      ]
    },
    {
      "cell_type": "code",
      "execution_count": 3,
      "metadata": {
        "id": "gP50fwaBY5Tp"
      },
      "outputs": [],
      "source": [
        "class SimpleNN(nn.Module):\n",
        "    def __init__(self):\n",
        "        super().__init__()\n",
        "        # Initialize weights and biases with random values between -1 and 2\n",
        "        self.w00 = nn.Parameter(torch.rand(1) * 3 - 1, requires_grad=False)  # Random between -1 and 2\n",
        "        self.b00 = nn.Parameter(torch.rand(1) * 3 - 1, requires_grad=False)\n",
        "\n",
        "        self.w01 = nn.Parameter(torch.rand(1) * 3 - 1, requires_grad=False)\n",
        "        self.b01 = nn.Parameter(torch.rand(1) * 3 - 1, requires_grad=False)\n",
        "\n",
        "        self.w02 = nn.Parameter(torch.rand(1) * 3 - 1, requires_grad=False)\n",
        "        self.b02 = nn.Parameter(torch.rand(1) * 3 - 1, requires_grad=False)\n",
        "\n",
        "        self.w11 = nn.Parameter(torch.rand(1) * 3 - 1, requires_grad=False)\n",
        "        self.w12 = nn.Parameter(torch.rand(1) * 3 - 1, requires_grad=False)\n",
        "        self.w13 = nn.Parameter(torch.rand(1) * 3 - 1, requires_grad=False)\n",
        "\n",
        "        self.w20 = nn.Parameter(torch.rand(1) * 3 - 1, requires_grad=False)  # Random between -1 and 2\n",
        "\n",
        "    def forward(self, input):\n",
        "        input_to_layer_01 = input * self.w00 + self.b00\n",
        "        layer_01_output = torch.sigmoid(input_to_layer_01)  # Using sigmoid activation\n",
        "        layer_01_output = layer_01_output * self.w11\n",
        "\n",
        "        input_to_layer_02 = input * self.w01 + self.b01\n",
        "        layer_02_output = torch.sigmoid(input_to_layer_02)  # Using sigmoid activation\n",
        "        layer_02_output = layer_02_output * self.w12\n",
        "\n",
        "        input_to_layer_03 = input * self.w02 + self.b02\n",
        "        layer_03_output = torch.sigmoid(input_to_layer_03)  # Using sigmoid activation\n",
        "        layer_03_output = layer_03_output * self.w13\n",
        "\n",
        "        output = layer_01_output + layer_02_output + layer_03_output\n",
        "\n",
        "        output = torch.tanh(output)  # Applying tanh on the final output\n",
        "        output = output * self.w20\n",
        "        return output\n"
      ]
    },
    {
      "cell_type": "code",
      "execution_count": 4,
      "metadata": {
        "id": "k6sIZtmKeoT_"
      },
      "outputs": [],
      "source": [
        "my_model = SimpleNN()"
      ]
    },
    {
      "cell_type": "code",
      "execution_count": 5,
      "metadata": {
        "colab": {
          "base_uri": "https://localhost:8080/"
        },
        "id": "9z4_z5mYewtw",
        "outputId": "db668690-b54a-4cc7-e7ff-be5b77ee0c79"
      },
      "outputs": [
        {
          "output_type": "execute_result",
          "data": {
            "text/plain": [
              "tensor([1.0000, 1.0385, 1.0769, 1.1154, 1.1538, 1.1923, 1.2308, 1.2692, 1.3077,\n",
              "        1.3462, 1.3846, 1.4231, 1.4615, 1.5000, 1.5385, 1.5769, 1.6154, 1.6538,\n",
              "        1.6923, 1.7308, 1.7692, 1.8077, 1.8462, 1.8846, 1.9231, 1.9615, 2.0000,\n",
              "        2.0385, 2.0769, 2.1154, 2.1538, 2.1923, 2.2308, 2.2692, 2.3077, 2.3462,\n",
              "        2.3846, 2.4231, 2.4615, 2.5000])"
            ]
          },
          "metadata": {},
          "execution_count": 5
        }
      ],
      "source": [
        "X = torch.linspace(start=1, end=2.5, steps=40)\n",
        "X"
      ]
    },
    {
      "cell_type": "code",
      "execution_count": 6,
      "metadata": {
        "colab": {
          "base_uri": "https://localhost:8080/"
        },
        "id": "8AQNdDNdfIrY",
        "outputId": "7b031006-e652-4b84-8bd1-07acc8435895"
      },
      "outputs": [
        {
          "output_type": "execute_result",
          "data": {
            "text/plain": [
              "tensor([1.7079, 1.7086, 1.7092, 1.7097, 1.7102, 1.7106, 1.7110, 1.7113, 1.7116,\n",
              "        1.7118, 1.7120, 1.7121, 1.7122, 1.7122, 1.7123, 1.7122, 1.7122, 1.7120,\n",
              "        1.7119, 1.7117, 1.7115, 1.7113, 1.7110, 1.7107, 1.7104, 1.7101, 1.7097,\n",
              "        1.7093, 1.7089, 1.7084, 1.7080, 1.7075, 1.7070, 1.7065, 1.7059, 1.7054,\n",
              "        1.7048, 1.7042, 1.7036, 1.7030])"
            ]
          },
          "metadata": {},
          "execution_count": 6
        }
      ],
      "source": [
        "Y = my_model(X)\n",
        "Y"
      ]
    },
    {
      "cell_type": "code",
      "execution_count": 7,
      "metadata": {
        "colab": {
          "base_uri": "https://localhost:8080/",
          "height": 476
        },
        "id": "2p3agH02fS8y",
        "outputId": "8116d630-5880-4c05-dd3f-5916109386aa"
      },
      "outputs": [
        {
          "output_type": "execute_result",
          "data": {
            "text/plain": [
              "Text(0, 0.5, 'Y')"
            ]
          },
          "metadata": {},
          "execution_count": 7
        },
        {
          "output_type": "display_data",
          "data": {
            "text/plain": [
              "<Figure size 640x480 with 1 Axes>"
            ],
            "image/png": "[encoded data removed]"
          },
          "metadata": {}
        }
      ],
      "source": [
        "sns.set(style=\"whitegrid\")\n",
        "\n",
        "sns.lineplot(\n",
        "    x=X,\n",
        "    y=Y,\n",
        "    color='green',\n",
        "    linewidth=3\n",
        ")\n",
        "\n",
        "\n",
        "plt.xlabel('X')\n",
        "plt.ylabel('Y')"
      ]
    },
    {
      "cell_type": "code",
      "execution_count": 8,
      "metadata": {
        "id": "KqYZFWFCgAgb"
      },
      "outputs": [],
      "source": [
        "class Simple2NN(nn.Module):\n",
        "    def __init__(self):\n",
        "        super().__init__()\n",
        "        # Initialize weights and biases with random values between -1 and 2\n",
        "        self.w00 = nn.Parameter(torch.rand(1) * 3 - 1, requires_grad=True)  # Random between -1 and 2\n",
        "        self.b00 = nn.Parameter(torch.rand(1) * 3 - 1, requires_grad=True)\n",
        "\n",
        "        self.w01 = nn.Parameter(torch.rand(1) * 3 - 1, requires_grad=True)\n",
        "        self.b01 = nn.Parameter(torch.rand(1) * 3 - 1, requires_grad=True)\n",
        "\n",
        "        self.w02 = nn.Parameter(torch.rand(1) * 3 - 1, requires_grad=True)  # Random between -1 and 2\n",
        "        self.b02 = nn.Parameter(torch.rand(1) * 3 - 1, requires_grad=True)\n",
        "\n",
        "        self.w11 = nn.Parameter(torch.rand(1) * 3 - 1, requires_grad=True)\n",
        "        self.w12 = nn.Parameter(torch.rand(1) * 3 - 1, requires_grad=True)\n",
        "        self.w13 = nn.Parameter(torch.rand(1) * 3 - 1, requires_grad=True)\n",
        "\n",
        "        self.w20 = nn.Parameter(torch.rand(1) * 3 - 1, requires_grad=True)  # Random between -1 and 2\n",
        "\n",
        "    def forward(self, input):\n",
        "        input_to_layer_01 = input * self.w00 + self.b00\n",
        "        layer_01_output = torch.sigmoid(input_to_layer_01)  # Using sigmoid activation\n",
        "        layer_01_output = layer_01_output * self.w11\n",
        "\n",
        "        input_to_layer_02 = input * self.w01 + self.b01\n",
        "        layer_02_output = torch.sigmoid(input_to_layer_02)  # Using sigmoid activation\n",
        "        layer_02_output = layer_02_output * self.w12\n",
        "\n",
        "        input_to_layer_03 = input * self.w02 + self.b02\n",
        "        layer_03_output = torch.sigmoid(input_to_layer_03)  # Using sigmoid activation\n",
        "        layer_03_output = layer_03_output * self.w13\n",
        "\n",
        "        output = layer_01_output + layer_02_output + layer_03_output\n",
        "\n",
        "        output = torch.tanh(output)  # Applying tanh on the final output\n",
        "        output = output * self.w20\n",
        "        return output"
      ]
    },
    {
      "cell_type": "code",
      "execution_count": 10,
      "metadata": {
        "id": "xh8wwTPPg5b8"
      },
      "outputs": [],
      "source": [
        "simple2NN = Simple2NN()"
      ]
    },
    {
      "cell_type": "code",
      "execution_count": 11,
      "metadata": {
        "id": "EKBe4kYmhP7y"
      },
      "outputs": [],
      "source": [
        "newY=simple2NN(X)"
      ]
    },
    {
      "cell_type": "code",
      "execution_count": 12,
      "metadata": {
        "colab": {
          "base_uri": "https://localhost:8080/"
        },
        "id": "-AjvN_aKhXoV",
        "outputId": "06461dda-3050-4096-a203-08119b4b534e"
      },
      "outputs": [
        {
          "output_type": "execute_result",
          "data": {
            "text/plain": [
              "tensor([0.3550, 0.3485, 0.3419, 0.3352, 0.3284, 0.3214, 0.3143, 0.3072, 0.2998,\n",
              "        0.2924, 0.2849, 0.2773, 0.2696, 0.2618, 0.2539, 0.2459, 0.2379, 0.2298,\n",
              "        0.2216, 0.2134, 0.2052, 0.1969, 0.1885, 0.1802, 0.1718, 0.1634, 0.1550,\n",
              "        0.1466, 0.1382, 0.1299, 0.1215, 0.1132, 0.1049, 0.0967, 0.0885, 0.0804,\n",
              "        0.0723, 0.0643, 0.0564, 0.0486], grad_fn=<MulBackward0>)"
            ]
          },
          "metadata": {},
          "execution_count": 12
        }
      ],
      "source": [
        "newY"
      ]
    },
    {
      "cell_type": "code",
      "execution_count": 13,
      "metadata": {
        "colab": {
          "base_uri": "https://localhost:8080/",
          "height": 476
        },
        "id": "5e1jhV8zhZgn",
        "outputId": "30276ca1-d645-4b19-811a-0835357cd623"
      },
      "outputs": [
        {
          "output_type": "execute_result",
          "data": {
            "text/plain": [
              "Text(0, 0.5, 'Y')"
            ]
          },
          "metadata": {},
          "execution_count": 13
        },
        {
          "output_type": "display_data",
          "data": {
            "text/plain": [
              "<Figure size 640x480 with 1 Axes>"
            ],
            "image/png": "[encoded data removed]"
          },
          "metadata": {}
        }
      ],
      "source": [
        "sns.set(style=\"whitegrid\")\n",
        "\n",
        "sns.lineplot(\n",
        "    x=X,\n",
        "    y=newY.detach(),\n",
        "    color='green',\n",
        "    linewidth=3\n",
        ")\n",
        "\n",
        "\n",
        "plt.xlabel('X')\n",
        "plt.ylabel('Y')"
      ]
    },
    {
      "cell_type": "code",
      "execution_count": 14,
      "metadata": {
        "id": "r6FK_K2Ehzi4"
      },
      "outputs": [],
      "source": [
        "optimizer = SGD(simple2NN.parameters(), lr=0.01)\n",
        "loss = nn.MSELoss()"
      ]
    },
    {
      "cell_type": "code",
      "execution_count": 17,
      "metadata": {
        "colab": {
          "base_uri": "https://localhost:8080/"
        },
        "id": "esJ2KVMtie8G",
        "outputId": "be9b7e1b-8392-41ff-ec5c-9c4a8a39215a"
      },
      "outputs": [
        {
          "output_type": "stream",
          "name": "stdout",
          "text": [
            "Epoch:  0  | Total Loss:  tensor(0.0080, grad_fn=<AddBackward0>)\n",
            "Epoch:  1  | Total Loss:  tensor(0.0079, grad_fn=<AddBackward0>)\n",
            "Epoch:  2  | Total Loss:  tensor(0.0079, grad_fn=<AddBackward0>)\n",
            "Epoch:  3  | Total Loss:  tensor(0.0078, grad_fn=<AddBackward0>)\n",
            "Epoch:  4  | Total Loss:  tensor(0.0078, grad_fn=<AddBackward0>)\n",
            "Epoch:  5  | Total Loss:  tensor(0.0077, grad_fn=<AddBackward0>)\n",
            "Epoch:  6  | Total Loss:  tensor(0.0077, grad_fn=<AddBackward0>)\n",
            "Epoch:  7  | Total Loss:  tensor(0.0076, grad_fn=<AddBackward0>)\n",
            "Epoch:  8  | Total Loss:  tensor(0.0076, grad_fn=<AddBackward0>)\n",
            "Epoch:  9  | Total Loss:  tensor(0.0076, grad_fn=<AddBackward0>)\n",
            "Epoch:  10  | Total Loss:  tensor(0.0075, grad_fn=<AddBackward0>)\n",
            "Epoch:  11  | Total Loss:  tensor(0.0075, grad_fn=<AddBackward0>)\n",
            "Epoch:  12  | Total Loss:  tensor(0.0074, grad_fn=<AddBackward0>)\n",
            "Epoch:  13  | Total Loss:  tensor(0.0074, grad_fn=<AddBackward0>)\n",
            "Epoch:  14  | Total Loss:  tensor(0.0074, grad_fn=<AddBackward0>)\n",
            "Epoch:  15  | Total Loss:  tensor(0.0073, grad_fn=<AddBackward0>)\n",
            "Epoch:  16  | Total Loss:  tensor(0.0073, grad_fn=<AddBackward0>)\n",
            "Epoch:  17  | Total Loss:  tensor(0.0072, grad_fn=<AddBackward0>)\n",
            "Epoch:  18  | Total Loss:  tensor(0.0072, grad_fn=<AddBackward0>)\n",
            "Epoch:  19  | Total Loss:  tensor(0.0072, grad_fn=<AddBackward0>)\n",
            "Epoch:  20  | Total Loss:  tensor(0.0071, grad_fn=<AddBackward0>)\n",
            "Epoch:  21  | Total Loss:  tensor(0.0071, grad_fn=<AddBackward0>)\n",
            "Epoch:  22  | Total Loss:  tensor(0.0070, grad_fn=<AddBackward0>)\n",
            "Epoch:  23  | Total Loss:  tensor(0.0070, grad_fn=<AddBackward0>)\n",
            "Epoch:  24  | Total Loss:  tensor(0.0070, grad_fn=<AddBackward0>)\n",
            "Epoch:  25  | Total Loss:  tensor(0.0069, grad_fn=<AddBackward0>)\n",
            "Epoch:  26  | Total Loss:  tensor(0.0069, grad_fn=<AddBackward0>)\n",
            "Epoch:  27  | Total Loss:  tensor(0.0069, grad_fn=<AddBackward0>)\n",
            "Epoch:  28  | Total Loss:  tensor(0.0068, grad_fn=<AddBackward0>)\n",
            "Epoch:  29  | Total Loss:  tensor(0.0068, grad_fn=<AddBackward0>)\n",
            "Epoch:  30  | Total Loss:  tensor(0.0068, grad_fn=<AddBackward0>)\n",
            "Epoch:  31  | Total Loss:  tensor(0.0067, grad_fn=<AddBackward0>)\n",
            "Epoch:  32  | Total Loss:  tensor(0.0067, grad_fn=<AddBackward0>)\n",
            "Epoch:  33  | Total Loss:  tensor(0.0067, grad_fn=<AddBackward0>)\n",
            "Epoch:  34  | Total Loss:  tensor(0.0066, grad_fn=<AddBackward0>)\n",
            "Epoch:  35  | Total Loss:  tensor(0.0066, grad_fn=<AddBackward0>)\n",
            "Epoch:  36  | Total Loss:  tensor(0.0066, grad_fn=<AddBackward0>)\n",
            "Epoch:  37  | Total Loss:  tensor(0.0065, grad_fn=<AddBackward0>)\n",
            "Epoch:  38  | Total Loss:  tensor(0.0065, grad_fn=<AddBackward0>)\n",
            "Epoch:  39  | Total Loss:  tensor(0.0065, grad_fn=<AddBackward0>)\n",
            "Epoch:  40  | Total Loss:  tensor(0.0064, grad_fn=<AddBackward0>)\n",
            "Epoch:  41  | Total Loss:  tensor(0.0064, grad_fn=<AddBackward0>)\n",
            "Epoch:  42  | Total Loss:  tensor(0.0064, grad_fn=<AddBackward0>)\n",
            "Epoch:  43  | Total Loss:  tensor(0.0063, grad_fn=<AddBackward0>)\n",
            "Epoch:  44  | Total Loss:  tensor(0.0063, grad_fn=<AddBackward0>)\n",
            "Epoch:  45  | Total Loss:  tensor(0.0063, grad_fn=<AddBackward0>)\n",
            "Epoch:  46  | Total Loss:  tensor(0.0062, grad_fn=<AddBackward0>)\n",
            "Epoch:  47  | Total Loss:  tensor(0.0062, grad_fn=<AddBackward0>)\n",
            "Epoch:  48  | Total Loss:  tensor(0.0062, grad_fn=<AddBackward0>)\n",
            "Epoch:  49  | Total Loss:  tensor(0.0062, grad_fn=<AddBackward0>)\n",
            "Epoch:  50  | Total Loss:  tensor(0.0061, grad_fn=<AddBackward0>)\n",
            "Epoch:  51  | Total Loss:  tensor(0.0061, grad_fn=<AddBackward0>)\n",
            "Epoch:  52  | Total Loss:  tensor(0.0061, grad_fn=<AddBackward0>)\n",
            "Epoch:  53  | Total Loss:  tensor(0.0060, grad_fn=<AddBackward0>)\n",
            "Epoch:  54  | Total Loss:  tensor(0.0060, grad_fn=<AddBackward0>)\n",
            "Epoch:  55  | Total Loss:  tensor(0.0060, grad_fn=<AddBackward0>)\n",
            "Epoch:  56  | Total Loss:  tensor(0.0060, grad_fn=<AddBackward0>)\n",
            "Epoch:  57  | Total Loss:  tensor(0.0059, grad_fn=<AddBackward0>)\n",
            "Epoch:  58  | Total Loss:  tensor(0.0059, grad_fn=<AddBackward0>)\n",
            "Epoch:  59  | Total Loss:  tensor(0.0059, grad_fn=<AddBackward0>)\n",
            "Epoch:  60  | Total Loss:  tensor(0.0058, grad_fn=<AddBackward0>)\n",
            "Epoch:  61  | Total Loss:  tensor(0.0058, grad_fn=<AddBackward0>)\n",
            "Epoch:  62  | Total Loss:  tensor(0.0058, grad_fn=<AddBackward0>)\n",
            "Epoch:  63  | Total Loss:  tensor(0.0058, grad_fn=<AddBackward0>)\n",
            "Epoch:  64  | Total Loss:  tensor(0.0057, grad_fn=<AddBackward0>)\n",
            "Epoch:  65  | Total Loss:  tensor(0.0057, grad_fn=<AddBackward0>)\n",
            "Epoch:  66  | Total Loss:  tensor(0.0057, grad_fn=<AddBackward0>)\n",
            "Epoch:  67  | Total Loss:  tensor(0.0057, grad_fn=<AddBackward0>)\n",
            "Epoch:  68  | Total Loss:  tensor(0.0056, grad_fn=<AddBackward0>)\n",
            "Epoch:  69  | Total Loss:  tensor(0.0056, grad_fn=<AddBackward0>)\n",
            "Epoch:  70  | Total Loss:  tensor(0.0056, grad_fn=<AddBackward0>)\n",
            "Epoch:  71  | Total Loss:  tensor(0.0056, grad_fn=<AddBackward0>)\n",
            "Epoch:  72  | Total Loss:  tensor(0.0055, grad_fn=<AddBackward0>)\n",
            "Epoch:  73  | Total Loss:  tensor(0.0055, grad_fn=<AddBackward0>)\n",
            "Epoch:  74  | Total Loss:  tensor(0.0055, grad_fn=<AddBackward0>)\n",
            "Epoch:  75  | Total Loss:  tensor(0.0055, grad_fn=<AddBackward0>)\n",
            "Epoch:  76  | Total Loss:  tensor(0.0054, grad_fn=<AddBackward0>)\n",
            "Epoch:  77  | Total Loss:  tensor(0.0054, grad_fn=<AddBackward0>)\n",
            "Epoch:  78  | Total Loss:  tensor(0.0054, grad_fn=<AddBackward0>)\n",
            "Epoch:  79  | Total Loss:  tensor(0.0054, grad_fn=<AddBackward0>)\n",
            "Epoch:  80  | Total Loss:  tensor(0.0054, grad_fn=<AddBackward0>)\n",
            "Epoch:  81  | Total Loss:  tensor(0.0053, grad_fn=<AddBackward0>)\n",
            "Epoch:  82  | Total Loss:  tensor(0.0053, grad_fn=<AddBackward0>)\n",
            "Epoch:  83  | Total Loss:  tensor(0.0053, grad_fn=<AddBackward0>)\n",
            "Epoch:  84  | Total Loss:  tensor(0.0053, grad_fn=<AddBackward0>)\n",
            "Epoch:  85  | Total Loss:  tensor(0.0052, grad_fn=<AddBackward0>)\n",
            "Epoch:  86  | Total Loss:  tensor(0.0052, grad_fn=<AddBackward0>)\n",
            "Epoch:  87  | Total Loss:  tensor(0.0052, grad_fn=<AddBackward0>)\n",
            "Epoch:  88  | Total Loss:  tensor(0.0052, grad_fn=<AddBackward0>)\n",
            "Epoch:  89  | Total Loss:  tensor(0.0052, grad_fn=<AddBackward0>)\n",
            "Epoch:  90  | Total Loss:  tensor(0.0051, grad_fn=<AddBackward0>)\n",
            "Epoch:  91  | Total Loss:  tensor(0.0051, grad_fn=<AddBackward0>)\n",
            "Epoch:  92  | Total Loss:  tensor(0.0051, grad_fn=<AddBackward0>)\n",
            "Epoch:  93  | Total Loss:  tensor(0.0051, grad_fn=<AddBackward0>)\n",
            "Epoch:  94  | Total Loss:  tensor(0.0050, grad_fn=<AddBackward0>)\n",
            "Epoch:  95  | Total Loss:  tensor(0.0050, grad_fn=<AddBackward0>)\n",
            "Epoch:  96  | Total Loss:  tensor(0.0050, grad_fn=<AddBackward0>)\n",
            "Epoch:  97  | Total Loss:  tensor(0.0050, grad_fn=<AddBackward0>)\n",
            "Epoch:  98  | Total Loss:  tensor(0.0050, grad_fn=<AddBackward0>)\n",
            "Epoch:  99  | Total Loss:  tensor(0.0049, grad_fn=<AddBackward0>)\n"
          ]
        }
      ],
      "source": [
        "for epoch in range(100):\n",
        "    total_loss = 0\n",
        "\n",
        "    for i in range(len(X)):\n",
        "        input_i = X[i]\n",
        "        actual_output_i = Y[i]\n",
        "\n",
        "        pred_output_i = simple2NN(input_i)\n",
        "\n",
        "        loss_value = loss(pred_output_i, actual_output_i)\n",
        "\n",
        "        loss_value.backward()\n",
        "\n",
        "        total_loss += loss_value\n",
        "\n",
        "    print('Epoch: ', epoch, ' | Total Loss: ', total_loss)\n",
        "    optimizer.step()\n",
        "    optimizer.zero_grad()\n",
        "\n"
      ]
    },
    {
      "cell_type": "code",
      "execution_count": 19,
      "metadata": {
        "colab": {
          "base_uri": "https://localhost:8080/"
        },
        "id": "DKTxJyOMkF-r",
        "outputId": "d731531b-0107-4b3e-fc7b-07fd4010478e"
      },
      "outputs": [
        {
          "output_type": "execute_result",
          "data": {
            "text/plain": [
              "tensor([1.7256, 1.7250, 1.7244, 1.7238, 1.7232, 1.7225, 1.7218, 1.7212, 1.7205,\n",
              "        1.7197, 1.7190, 1.7182, 1.7175, 1.7167, 1.7159, 1.7150, 1.7142, 1.7133,\n",
              "        1.7124, 1.7115, 1.7106, 1.7096, 1.7086, 1.7076, 1.7066, 1.7055, 1.7044,\n",
              "        1.7033, 1.7022, 1.7010, 1.6998, 1.6986, 1.6973, 1.6960, 1.6947, 1.6934,\n",
              "        1.6920, 1.6905, 1.6891, 1.6876], grad_fn=<MulBackward0>)"
            ]
          },
          "metadata": {},
          "execution_count": 19
        }
      ],
      "source": [
        "pred_y = simple2NN(X)\n",
        "pred_y"
      ]
    },
    {
      "cell_type": "code",
      "execution_count": 20,
      "metadata": {
        "colab": {
          "base_uri": "https://localhost:8080/",
          "height": 476
        },
        "id": "eCqnctFAlKj-",
        "outputId": "58a2a0d1-3a0e-4f96-897e-484d3293e3c5"
      },
      "outputs": [
        {
          "output_type": "execute_result",
          "data": {
            "text/plain": [
              "Text(0, 0.5, 'Y')"
            ]
          },
          "metadata": {},
          "execution_count": 20
        },
        {
          "output_type": "display_data",
          "data": {
            "text/plain": [
              "<Figure size 640x480 with 1 Axes>"
            ],
            "image/png": "[encoded data removed]"
          },
          "metadata": {}
        }
      ],
      "source": [
        "sns.set(style=\"whitegrid\")\n",
        "\n",
        "sns.lineplot(\n",
        "    x=X,\n",
        "    y=pred_y.detach(),\n",
        "    color='green',\n",
        "    linewidth=3\n",
        ")\n",
        "\n",
        "\n",
        "plt.xlabel('X')\n",
        "plt.ylabel('Y')"
      ]
    }
  ],
  "metadata": {
    "colab": {
      "provenance": []
    },
    "kernelspec": {
      "display_name": "base",
      "language": "python",
      "name": "python3"
    },
    "language_info": {
      "codemirror_mode": {
        "name": "ipython",
        "version": 3
      },
      "file_extension": ".py",
      "mimetype": "text/x-python",
      "name": "python",
      "nbconvert_exporter": "python",
      "pygments_lexer": "ipython3",
      "version": "3.11.5"
    }
  },
  "nbformat": 4,
  "nbformat_minor": 0
}